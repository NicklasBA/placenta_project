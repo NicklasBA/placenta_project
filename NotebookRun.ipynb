{
 "cells": [
  {
   "cell_type": "markdown",
   "id": "4dd690a9",
   "metadata": {},
   "source": [
    "### NOTE: This is not our recommended approach to train the network. \n",
    "We advise to follow the README, and further more see the documentaiton at: https://github.com/facebookresearch/SlowFast"
   ]
  },
  {
   "cell_type": "markdown",
   "id": "0f48cd56",
   "metadata": {},
   "source": [
    "### Setup paths"
   ]
  },
  {
   "cell_type": "code",
   "execution_count": 7,
   "id": "7f4628ed",
   "metadata": {
    "scrolled": true
   },
   "outputs": [
    {
     "name": "stdout",
     "output_type": "stream",
     "text": [
      "Current paths:\n",
      "/Users/joachimsecher/Qsync/DTU/7. Semester/placenta_project\n",
      "/Users/joachimsecher/Qsync/DTU/7. Semester/placenta_project/SlowFast/slowfast\n",
      "/Users/joachimsecher/Qsync/DTU/7. Semester/placenta_project/SlowFast/slowfast\n",
      "/Users/joachimsecher/Qsync/DTU/7. Semester/placenta_project/SlowFast\n",
      "/Users/joachimsecher/Qsync/DTU/7. Semester/placenta_project/SlowFast\n",
      "/Users/joachimsecher/.vscode/extensions/ms-toolsai.jupyter-2021.11.1001550889/pythonFiles\n",
      "/Users/joachimsecher/.vscode/extensions/ms-toolsai.jupyter-2021.11.1001550889/pythonFiles/lib/python\n",
      "/usr/local/Cellar/python@3.9/3.9.5/Frameworks/Python.framework/Versions/3.9/lib/python39.zip\n",
      "/usr/local/Cellar/python@3.9/3.9.5/Frameworks/Python.framework/Versions/3.9/lib/python3.9\n",
      "/usr/local/Cellar/python@3.9/3.9.5/Frameworks/Python.framework/Versions/3.9/lib/python3.9/lib-dynload\n",
      "\n",
      "/Users/joachimsecher/.local/share/virtualenvs/placenta_project-AGoQWRP8/lib/python3.9/site-packages\n",
      "/Users/joachimsecher/.local/share/virtualenvs/placenta_project-AGoQWRP8/lib/python3.9/site-packages/IPython/extensions\n",
      "/Users/joachimsecher/.ipython\n",
      "/Users/joachimsecher/Qsync/DTU/7. Semester/placenta_project/SlowFast\n"
     ]
    },
    {
     "ename": "ModuleNotFoundError",
     "evalue": "No module named 'tools.run_net'",
     "output_type": "error",
     "traceback": [
      "\u001b[0;31m---------------------------------------------------------------------------\u001b[0m",
      "\u001b[0;31mModuleNotFoundError\u001b[0m                       Traceback (most recent call last)",
      "\u001b[0;32m/var/folders/bh/t85pn8z13rjbkzj9qb9v6ycr0000gn/T/ipykernel_33305/1263968665.py\u001b[0m in \u001b[0;36m<module>\u001b[0;34m\u001b[0m\n\u001b[1;32m     11\u001b[0m \u001b[0;31m# !python -m pip install 'git+https://github.com/facebookresearch/detectron2.git'\u001b[0m\u001b[0;34m\u001b[0m\u001b[0;34m\u001b[0m\u001b[0;34m\u001b[0m\u001b[0m\n\u001b[1;32m     12\u001b[0m \u001b[0;31m# Import runnner\u001b[0m\u001b[0;34m\u001b[0m\u001b[0;34m\u001b[0m\u001b[0;34m\u001b[0m\u001b[0m\n\u001b[0;32m---> 13\u001b[0;31m \u001b[0;32mfrom\u001b[0m \u001b[0mtools\u001b[0m\u001b[0;34m.\u001b[0m\u001b[0mrun_net\u001b[0m \u001b[0;32mimport\u001b[0m \u001b[0mmain\u001b[0m \u001b[0;32mas\u001b[0m \u001b[0mrun_net\u001b[0m\u001b[0;34m\u001b[0m\u001b[0;34m\u001b[0m\u001b[0m\n\u001b[0m",
      "\u001b[0;31mModuleNotFoundError\u001b[0m: No module named 'tools.run_net'"
     ]
    }
   ],
   "source": [
    "# Fix paths to Slowfast\n",
    "import sys\n",
    "import os\n",
    "#export JUPYTER_PATH=\"./SlowFast:${JUPYTER_PATH}\"\n",
    "#export PYTHONPATH=\"/home/s183993/placenta_project/SlowFast:${PYTHONPATH}\"\n",
    "#export JUPYTER_PATH=\"${JUPYTER_PATH}:./SlowFast\"\n",
    "print(f\"Current paths:\\n\" + '\\n'.join(sys.path))\n",
    "\n",
    "sys.path.insert(1, os.getcwd() + \"/SlowFast\")\n",
    "#sys.path.append(sys.path[0] + \"/SlowFast/detectron2\")\n",
    "# !python -m pip install 'git+https://github.com/facebookresearch/detectron2.git'\n",
    "# Import runnner\n",
    "from tools.run_net import main as run_net\n"
   ]
  },
  {
   "cell_type": "code",
   "execution_count": 3,
   "id": "77793148",
   "metadata": {},
   "outputs": [
    {
     "name": "stdout",
     "output_type": "stream",
     "text": [
      "/Users/joachimsecher/Qsync/DTU/7. Semester/placenta_project\n",
      "Current paths:\n",
      "/Users/joachimsecher/Qsync/DTU/7. Semester/placenta_project\n",
      "/Users/joachimsecher/Qsync/DTU/7. Semester/placenta_project/SlowFast\n",
      "/Users/joachimsecher/.vscode/extensions/ms-toolsai.jupyter-2021.11.1001550889/pythonFiles\n",
      "/Users/joachimsecher/.vscode/extensions/ms-toolsai.jupyter-2021.11.1001550889/pythonFiles/lib/python\n",
      "/usr/local/Cellar/python@3.9/3.9.5/Frameworks/Python.framework/Versions/3.9/lib/python39.zip\n",
      "/usr/local/Cellar/python@3.9/3.9.5/Frameworks/Python.framework/Versions/3.9/lib/python3.9\n",
      "/usr/local/Cellar/python@3.9/3.9.5/Frameworks/Python.framework/Versions/3.9/lib/python3.9/lib-dynload\n",
      "\n",
      "/Users/joachimsecher/.local/share/virtualenvs/placenta_project-AGoQWRP8/lib/python3.9/site-packages\n",
      "/Users/joachimsecher/.local/share/virtualenvs/placenta_project-AGoQWRP8/lib/python3.9/site-packages/IPython/extensions\n",
      "/Users/joachimsecher/.ipython\n",
      "/Users/joachimsecher/Qsync/DTU/7. Semester/placenta_project/SlowFast\n"
     ]
    }
   ],
   "source": [
    "print(os.getcwd())\n",
    "print(f\"Current paths:\\n\" + '\\n'.join(sys.path))"
   ]
  },
  {
   "cell_type": "markdown",
   "metadata": {},
   "source": []
  },
  {
   "cell_type": "markdown",
   "id": "b8b0f68b",
   "metadata": {},
   "source": [
    "### Train the network\n",
    "\n",
    "Trains the network with a ResNet-101 Backbone"
   ]
  },
  {
   "cell_type": "code",
   "execution_count": 4,
   "id": "7da0fe7f",
   "metadata": {
    "scrolled": true
   },
   "outputs": [
    {
     "name": "stderr",
     "output_type": "stream",
     "text": [
      "Traceback (most recent call last):\n",
      "  File \"./SlowFast/tools/run_net.py\", line 6, in <module>\n",
      "    from slowfast.config.defaults import assert_and_infer_cfg\n",
      "ModuleNotFoundError: No module named 'slowfast'\n"
     ]
    }
   ],
   "source": [
    "\n",
    "!python ./SlowFast/tools/run_net.py --cfg ./SLOWFAST_8x8_R101_new_anno.yaml"
   ]
  },
  {
   "cell_type": "code",
   "execution_count": 5,
   "id": "74881fd7",
   "metadata": {},
   "outputs": [
    {
     "name": "stderr",
     "output_type": "stream",
     "text": [
      "Traceback (most recent call last):\n",
      "  File \"./SlowFast/tools/run_net.py\", line 6, in <module>\n",
      "    from slowfast.config.defaults import assert_and_infer_cfg\n",
      "ModuleNotFoundError: No module named 'slowfast'\n"
     ]
    }
   ],
   "source": [
    "!python ./SlowFast/tools/run_net.py --cfg ./SLOWFAST_8x8_R101_new_anno.yaml"
   ]
  },
  {
   "cell_type": "code",
   "execution_count": null,
   "id": "36cebc7c",
   "metadata": {},
   "outputs": [],
   "source": []
  }
 ],
 "metadata": {
  "kernelspec": {
   "display_name": "Python 3",
   "language": "python",
   "name": "python3"
  },
  "language_info": {
   "codemirror_mode": {
    "name": "ipython",
    "version": 3
   },
   "file_extension": ".py",
   "mimetype": "text/x-python",
   "name": "python",
   "nbconvert_exporter": "python",
   "pygments_lexer": "ipython3",
   "version": "3.9.5"
  }
 },
 "nbformat": 4,
 "nbformat_minor": 5
}
