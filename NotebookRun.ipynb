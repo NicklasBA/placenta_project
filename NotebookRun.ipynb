{
 "cells": [
  {
   "cell_type": "code",
   "execution_count": 1,
   "id": "4dd690a9",
   "metadata": {},
   "outputs": [],
   "source": [
    "### This is not our recommended approach to train the network. We advise to follow the read me further see the documentaiton. \n",
    "# https://github.com/facebookresearch/SlowFast"
   ]
  },
  {
   "cell_type": "code",
   "execution_count": 2,
   "id": "cb678f93",
   "metadata": {},
   "outputs": [],
   "source": [
    "import sys\n",
    "#export JUPYTER_PATH=\"./SlowFast:${JUPYTER_PATH}\"\n",
    "#export PYTHONPATH=\"/home/s183993/placenta_project/SlowFast:${PYTHONPATH}\"\n",
    "#export JUPYTER_PATH=\"${JUPYTER_PATH}:./SlowFast\""
   ]
  },
  {
   "cell_type": "code",
   "execution_count": 7,
   "id": "7f4628ed",
   "metadata": {
    "scrolled": true
   },
   "outputs": [
    {
     "data": {
      "text/plain": [
       "['C:\\\\Users\\\\Nicklas\\\\OneDrive - Danmarks Tekniske Universitet\\\\Undevisning\\\\FetalMaternal_project\\\\placenta',\n",
       " 'C:\\\\Users\\\\Nicklas\\\\anaconda3\\\\python38.zip',\n",
       " 'C:\\\\Users\\\\Nicklas\\\\anaconda3\\\\DLLs',\n",
       " 'C:\\\\Users\\\\Nicklas\\\\anaconda3\\\\lib',\n",
       " 'C:\\\\Users\\\\Nicklas\\\\anaconda3',\n",
       " '',\n",
       " 'C:\\\\Users\\\\Nicklas\\\\AppData\\\\Roaming\\\\Python\\\\Python38\\\\site-packages',\n",
       " 'C:\\\\Users\\\\Nicklas\\\\anaconda3\\\\lib\\\\site-packages',\n",
       " 'C:\\\\Users\\\\Nicklas\\\\anaconda3\\\\lib\\\\site-packages\\\\locket-0.2.1-py3.8.egg',\n",
       " 'C:\\\\Users\\\\Nicklas\\\\anaconda3\\\\lib\\\\site-packages\\\\win32',\n",
       " 'C:\\\\Users\\\\Nicklas\\\\anaconda3\\\\lib\\\\site-packages\\\\win32\\\\lib',\n",
       " 'C:\\\\Users\\\\Nicklas\\\\anaconda3\\\\lib\\\\site-packages\\\\Pythonwin',\n",
       " 'C:\\\\Users\\\\Nicklas\\\\anaconda3\\\\lib\\\\site-packages\\\\IPython\\\\extensions',\n",
       " 'C:\\\\Users\\\\Nicklas\\\\.ipython',\n",
       " 'C:\\\\Users\\\\Nicklas\\\\OneDrive - Danmarks Tekniske Universitet\\\\Undevisning\\\\FetalMaternal_project\\\\placenta\\\\SlowFast',\n",
       " 'C:\\\\Users\\\\Nicklas\\\\OneDrive - Danmarks Tekniske Universitet\\\\Undevisning\\\\FetalMaternal_project\\\\placenta\\\\SlowFast',\n",
       " 'C:\\\\Users\\\\Nicklas\\\\OneDrive - Danmarks Tekniske Universitet\\\\Undevisning\\\\FetalMaternal_project\\\\placenta\\\\SlowFast']"
      ]
     },
     "execution_count": 7,
     "metadata": {},
     "output_type": "execute_result"
    }
   ],
   "source": [
    "sys.path.append(r'C:\\Users\\Nicklas\\OneDrive - Danmarks Tekniske Universitet\\Undevisning\\FetalMaternal_project\\placenta\\SlowFast')\n",
    "sys.path"
   ]
  },
  {
   "cell_type": "code",
   "execution_count": 4,
   "id": "7da0fe7f",
   "metadata": {
    "scrolled": true
   },
   "outputs": [
    {
     "name": "stderr",
     "output_type": "stream",
     "text": [
      "Traceback (most recent call last):\n",
      "  File \"./SlowFast/tools/run_net.py\", line 6, in <module>\n",
      "    from slowfast.config.defaults import assert_and_infer_cfg\n",
      "ModuleNotFoundError: No module named 'slowfast'\n"
     ]
    }
   ],
   "source": [
    "\n",
    "!python ./SlowFast/tools/run_net.py --cfg ./SLOWFAST_8x8_R101_new_anno.yaml"
   ]
  },
  {
   "cell_type": "code",
   "execution_count": 5,
   "id": "74881fd7",
   "metadata": {},
   "outputs": [
    {
     "name": "stderr",
     "output_type": "stream",
     "text": [
      "Traceback (most recent call last):\n",
      "  File \"./SlowFast/tools/run_net.py\", line 6, in <module>\n",
      "    from slowfast.config.defaults import assert_and_infer_cfg\n",
      "ModuleNotFoundError: No module named 'slowfast'\n"
     ]
    }
   ],
   "source": [
    "!python ./SlowFast/tools/run_net.py --cfg ./SLOWFAST_8x8_R101_new_anno.yaml"
   ]
  },
  {
   "cell_type": "code",
   "execution_count": null,
   "id": "36cebc7c",
   "metadata": {},
   "outputs": [],
   "source": []
  }
 ],
 "metadata": {
  "kernelspec": {
   "display_name": "Python 3",
   "language": "python",
   "name": "python3"
  },
  "language_info": {
   "codemirror_mode": {
    "name": "ipython",
    "version": 3
   },
   "file_extension": ".py",
   "mimetype": "text/x-python",
   "name": "python",
   "nbconvert_exporter": "python",
   "pygments_lexer": "ipython3",
   "version": "3.8.5"
  }
 },
 "nbformat": 4,
 "nbformat_minor": 5
}
