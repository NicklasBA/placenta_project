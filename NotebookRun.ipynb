{
 "cells": [
  {
   "cell_type": "markdown",
   "id": "4dd690a9",
   "metadata": {},
   "source": [
    "### NOTE: This is not our recommended approach to train the network. \n",
    "We advise to follow the README, and further more see the documentaiton at: https://github.com/facebookresearch/SlowFast"
   ]
  },
  {
   "cell_type": "markdown",
   "id": "0f48cd56",
   "metadata": {},
   "source": [
    "### Setup paths"
   ]
  },
  {
   "cell_type": "code",
   "execution_count": null,
   "id": "7f4628ed",
   "metadata": {
    "scrolled": true
   },
   "outputs": [],
   "source": [
    "# Fix paths to Slowfast\n",
    "import sys\n",
    "import os\n",
    "print(f\"Current paths:\\n\" + '\\n'.join(sys.path))\n",
    "\n",
    "sys.path.insert(1, os.getcwd() + \"/SlowFast/slowfast\")\n",
    "# Import runnner\n",
    "from tools.run_net import main as run_net\n",
    "sys.path.insert(1, os.getcwd()+\"/SlowFast/detectron2\")\n"
   ]
  },
  {
   "cell_type": "code",
   "execution_count": null,
   "id": "77793148",
   "metadata": {},
   "outputs": [],
   "source": [
    "print(os.getcwd())\n",
    "print(f\"Current paths:\\n\" + '\\n'.join(sys.path))"
   ]
  },
  {
   "cell_type": "markdown",
   "id": "0d2842b2",
   "metadata": {},
   "source": []
  },
  {
   "cell_type": "code",
   "execution_count": null,
   "id": "4230a837",
   "metadata": {},
   "outputs": [],
   "source": []
  },
  {
   "cell_type": "markdown",
   "id": "b8b0f68b",
   "metadata": {},
   "source": [
    "### Train the network\n",
    "\n",
    "Trains the network with a ResNet-101 Backbone"
   ]
  },
  {
   "cell_type": "code",
   "execution_count": null,
   "id": "7da0fe7f",
   "metadata": {
    "scrolled": true
   },
   "outputs": [],
   "source": [
    "!python ./SlowFast/tools/run_net.py --cfg ./SLOWFAST_8x8_R101_new_anno_notebook.yaml"
   ]
  },
  {
   "cell_type": "code",
   "execution_count": null,
   "id": "74881fd7",
   "metadata": {},
   "outputs": [],
   "source": [
    "!tensorboard --port=6006 --logdir placenta_project/outputs/"
   ]
  },
  {
   "cell_type": "code",
   "execution_count": null,
   "id": "36cebc7c",
   "metadata": {},
   "outputs": [],
   "source": []
  }
 ],
 "metadata": {
  "kernelspec": {
   "display_name": "Python 3",
   "language": "python",
   "name": "python3"
  },
  "language_info": {
   "codemirror_mode": {
    "name": "ipython",
    "version": 3
   },
   "file_extension": ".py",
   "mimetype": "text/x-python",
   "name": "python",
   "nbconvert_exporter": "python",
   "pygments_lexer": "ipython3",
   "version": "3.8.5"
  }
 },
 "nbformat": 4,
 "nbformat_minor": 5
}
